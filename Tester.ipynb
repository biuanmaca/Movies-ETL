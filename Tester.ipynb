{
 "cells": [
  {
   "cell_type": "code",
   "execution_count": 1,
   "id": "9445a873",
   "metadata": {},
   "outputs": [],
   "source": [
    "import json\n",
    "import pandas as pd\n",
    "import numpy as np\n",
    "\n",
    "import re\n",
    "\n",
    "from sqlalchemy import create_engine\n",
    "import psycopg2\n",
    "\n",
    "from config import db_password\n",
    "\n",
    "import time"
   ]
  },
  {
   "cell_type": "code",
   "execution_count": 2,
   "id": "09620936",
   "metadata": {},
   "outputs": [],
   "source": [
    "# 1. Add the clean movie function that takes in the argument, \"movie\".\n",
    "def clean_movie(movie):\n",
    "    movie = dict(movie) #create a non-destructive copy\n",
    "    alt_titles = {}\n",
    "    # combine alternate titles into one list\n",
    "    for key in ['Also known as','Arabic','Cantonese','Chinese','French',\n",
    "                'Hangul','Hebrew','Hepburn','Japanese','Literally',\n",
    "                'Mandarin','McCune-Reischauer','Original title','Polish',\n",
    "                'Revised Romanization','Romanized','Russian',\n",
    "                'Simplified','Traditional','Yiddish']:\n",
    "        if key in movie:\n",
    "            alt_titles[key] = movie[key]\n",
    "            movie.pop(key)\n",
    "    if len(alt_titles) > 0:\n",
    "        movie['alt_titles'] = alt_titles\n",
    "\n",
    "    # merge column names\n",
    "    def change_column_name(old_name, new_name):\n",
    "        if old_name in movie:\n",
    "            movie[new_name] = movie.pop(old_name)\n",
    "    change_column_name('Adaptation by', 'Writer(s)')\n",
    "    change_column_name('Country of origin', 'Country')\n",
    "    change_column_name('Directed by', 'Director')\n",
    "    change_column_name('Distributed by', 'Distributor')\n",
    "    change_column_name('Edited by', 'Editor(s)')\n",
    "    change_column_name('Length', 'Running time')\n",
    "    change_column_name('Original release', 'Release date')\n",
    "    change_column_name('Music by', 'Composer(s)')\n",
    "    change_column_name('Produced by', 'Producer(s)')\n",
    "    change_column_name('Producer', 'Producer(s)')\n",
    "    change_column_name('Productioncompanies ', 'Production company(s)')\n",
    "    change_column_name('Productioncompany ', 'Production company(s)')\n",
    "    change_column_name('Released', 'Release Date')\n",
    "    change_column_name('Release Date', 'Release date')\n",
    "    change_column_name('Screen story by', 'Writer(s)')\n",
    "    change_column_name('Screenplay by', 'Writer(s)')\n",
    "    change_column_name('Story by', 'Writer(s)')\n",
    "    change_column_name('Theme music composer', 'Composer(s)')\n",
    "    change_column_name('Written by', 'Writer(s)')\n",
    "\n",
    "    return movie"
   ]
  },
  {
   "cell_type": "code",
   "execution_count": 4,
   "id": "60ebb5b3",
   "metadata": {},
   "outputs": [],
   "source": [
    "file_dir = \"D:\\\\UM BootCamp\\\\Module8\\\\Movies-ETL\"\n",
    "# Wikipedia data\n",
    "wiki_dir = f'{file_dir}\\\\wikipedia-movies.json'\n",
    "# Kaggle metadata\n",
    "kaggle_dir = f'{file_dir}\\\\archive\\\\movies_metadata.csv'\n",
    "# MovieLens rating data.\n",
    "ratings_dir = f'{file_dir}\\\\archive\\\\ratings.csv'\n",
    "\n",
    "\n",
    "# Read in the kaggle metadata and MovieLens ratings CSV files as Pandas DataFrames.\n",
    "kaggle_metadata = pd.read_csv(f'{kaggle_dir}', low_memory=False)\n",
    "ratings = pd.read_csv(f'{ratings_dir}')\n",
    "\n",
    "# Open and read the Wikipedia data JSON file.\n",
    "with open(f'{wiki_dir}', mode='r') as file:\n",
    "    wiki_movies_raw = json.load(file)\n",
    "\n",
    "# 3. Write a list comprehension to filter out TV shows.\n",
    "wiki_movies = [movie for movie in wiki_movies_raw\n",
    "           if 'No. of episodes' not in movie]\n",
    "\n",
    "# 4. Write a list comprehension to iterate through the cleaned wiki movies list\n",
    "# and call the clean_movie function on each movie.\n",
    "clean_movies = [clean_movie(movie) for movie in wiki_movies]\n",
    "\n",
    "# 5. Read in the cleaned movies list from Step 4 as a DataFrame.\n",
    "wiki_movies_df = pd.DataFrame(clean_movies)\n",
    "\n",
    "# 6. Write a try-except block to catch errors while extracting the IMDb ID using a regular expression string and\n",
    "#  dropping any imdb_id duplicates. If there is an error, capture and print the exception.\n",
    "try: \n",
    "    wiki_movies_df['imdb_id'] = wiki_movies_df['imdb_link'].str.extract(r'(tt\\d{7})')\n",
    "\n",
    "except:\n",
    "    print(\"Error on record for \"wiki_movies_df['imdb_link'])\n"
   ]
  },
  {
   "cell_type": "code",
   "execution_count": 10,
   "id": "b8ce81b7",
   "metadata": {},
   "outputs": [
    {
     "data": {
      "text/plain": [
       "0       tt0098987\n",
       "1       tt0098994\n",
       "2       tt0099005\n",
       "3       tt0099012\n",
       "4       tt0099018\n",
       "          ...    \n",
       "7300    tt1255919\n",
       "7301    tt6266538\n",
       "7302    tt4669788\n",
       "7303    tt7137380\n",
       "7304    tt9495224\n",
       "Name: imdb_id, Length: 7305, dtype: object"
      ]
     },
     "execution_count": 10,
     "metadata": {},
     "output_type": "execute_result"
    }
   ],
   "source": [
    "wiki_movies_df['imdb_id']"
   ]
  },
  {
   "cell_type": "code",
   "execution_count": null,
   "id": "9cd717f0",
   "metadata": {},
   "outputs": [],
   "source": []
  }
 ],
 "metadata": {
  "kernelspec": {
   "display_name": "PythonData",
   "language": "python",
   "name": "pythondata"
  },
  "language_info": {
   "codemirror_mode": {
    "name": "ipython",
    "version": 3
   },
   "file_extension": ".py",
   "mimetype": "text/x-python",
   "name": "python",
   "nbconvert_exporter": "python",
   "pygments_lexer": "ipython3",
   "version": "3.7.10"
  }
 },
 "nbformat": 4,
 "nbformat_minor": 5
}
